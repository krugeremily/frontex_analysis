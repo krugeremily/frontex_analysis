{
 "cells": [
  {
   "cell_type": "markdown",
   "metadata": {},
   "source": [
    "# Preprocessing"
   ]
  },
  {
   "cell_type": "markdown",
   "metadata": {},
   "source": [
    "Testing code to extract text from pdfs, make all lowercase, remove stopwords and punctuation."
   ]
  },
  {
   "cell_type": "code",
   "execution_count": 25,
   "metadata": {},
   "outputs": [],
   "source": [
    "from nltk.tokenize import word_tokenize\n",
    "from nltk.corpus import stopwords\n",
    "import re\n",
    "import os\n",
    "import pdfplumber"
   ]
  },
  {
   "cell_type": "code",
   "execution_count": 26,
   "metadata": {},
   "outputs": [],
   "source": [
    "def extract_text(pdf_path):\n",
    "    text = ''\n",
    "    with pdfplumber.open(pdf_path) as pdf:\n",
    "        for page in pdf.pages:\n",
    "            # Extract text content from the page\n",
    "            page_text = page.extract_text()\n",
    "            if page_text:\n",
    "                text += page_text + '\\n'  # Append extracted text with a newline\n",
    "    return text\n",
    "\n",
    "def preprocess_text(text):\n",
    "    # Convert to lowercase\n",
    "    text = text.lower()\n",
    "    \n",
    "    #remove puncuation\n",
    "    pattern1 = r\"[^\\w\\s']\"\n",
    "    pattern2 = '\\n'\n",
    "    text = re.sub(pattern1, '', text)\n",
    "    text = re.sub(pattern2, ' ', text)\n",
    "\n",
    "    #tokenize\n",
    "    tokens = word_tokenize(text)\n",
    "    \n",
    "    # Remove stopwords\n",
    "    stop_words = set(stopwords.words('english'))\n",
    "    filtered_tokens = [token for token in tokens if token not in stop_words]\n",
    "    \n",
    "    # Convert tokens back to text\n",
    "    preprocessed_text = ' '.join(filtered_tokens)\n",
    "    \n",
    "    return preprocessed_text\n",
    "\n",
    "def process_pdfs(folder_path, output_folder):\n",
    "    pdf_files = [f for f in os.listdir(folder_path)[:2] if f.endswith('.pdf')]\n",
    "    \n",
    "    for pdf_file in pdf_files:\n",
    "        pdf_path = os.path.join(folder_path, pdf_file)\n",
    "        \n",
    "        # Extract text from PDF using PyPDF2\n",
    "        extracted_text = extract_text(pdf_path)\n",
    "        \n",
    "        # Preprocess extracted text\n",
    "        preprocessed_text = preprocess_text(extracted_text)\n",
    "        \n",
    "        # Save preprocessed text to a new text file\n",
    "        output_file_path = os.path.join(output_folder, os.path.splitext(pdf_file)[0] + '.txt')\n",
    "        with open(output_file_path, 'w', encoding='utf-8') as txt_file:\n",
    "            txt_file.write(preprocessed_text)\n",
    "        \n",
    "        print('Preprocessing for doc done')"
   ]
  },
  {
   "cell_type": "code",
   "execution_count": 27,
   "metadata": {},
   "outputs": [
    {
     "name": "stdout",
     "output_type": "stream",
     "text": [
      "Preprocessing for doc done\n",
      "Preprocessing for doc done\n"
     ]
    }
   ],
   "source": [
    "# Example usage\n",
    "folder_path = '../data/raw_data'\n",
    "output_folder = '../data/preprocessed_data'\n",
    "os.makedirs('../data/preprocessed_data', exist_ok=True)\n",
    "\n",
    "process_pdfs(folder_path, output_folder)"
   ]
  },
  {
   "cell_type": "code",
   "execution_count": 23,
   "metadata": {},
   "outputs": [],
   "source": [
    "text = ''\n",
    "with pdfplumber.open('/Users/emilykruger/Documents/GitHub/frontex_analysis/data/raw_data/2023.11.16_frontex-general-industry-days-innovation-for-border-and-coast-guard-functions.pdf') as pdf:\n",
    "    for page in pdf.pages:\n",
    "        # Extract text content from the page\n",
    "        page_text = page.extract_text()\n",
    "        if page_text:\n",
    "            text += page_text  # Append extracted text with a newline"
   ]
  },
  {
   "cell_type": "code",
   "execution_count": 24,
   "metadata": {},
   "outputs": [
    {
     "data": {
      "text/plain": [
       "'Frontex General Industry Days: Innovation for\\nborder and coast guard functions\\n2023-11-16\\nJoin us on 6 and 7 December to contribute to innovative solutions for border and coast guard\\nfunctions. Frontex’s next general Industry Days will put innovation in the spotlight to reflect the core\\nrole of technology in European Integrated Border Management.\\nFrontex would like to invite industry representatives to demonstrate how innovation could support\\nborder and coast guard functions. Over the course of a two-day programme, 16 industry\\nrepresentatives will present their latest approaches, technologies, and solutions (whether already\\navailable on the market or under development), which can benefit border management activities at\\nthe EU’s external borders and within the EU area, in respect of EU regulations.\\nThe first day of the event will have a broad scope, it will be dedicated to innovative solutions in\\nsupport of law enforcement activities regarding border management.\\nThe second day will focus on remote sensing technologies for electromagnetic signatures\\nrecognition and state-of-the-art sensors for surveillance purposes (land based, shipborne,\\nairborne, mobile, etc.).\\nThese areas of focus should not be considered as exhaustive; other technological solutions will be\\nconsidered if relevant for border management.\\nPractical information\\nWhat are Industry Days?\\nIndustry Days are a platform to interact and engage with experts from the European Border and Coast\\nGuard community. The goal is to create a forum where participants can freely discuss the proposed\\ntechnological innovations.\\nFrontex - European Border and Coast Guard Agency\\nwww.frontex.europa.eu | Pl. Europejski 6, 00-844 Warsaw, Poland | Tel. +48 22 205 95 00 | Fax +48 22 205 95 01The Industry Days will be held in an online format which will host engaging presentations and\\ndynamic discussions, alongside an interactive digital exhibition platform. Each participating entity will\\nbe granted a 40-minute slot; during this time a presentation, Q&A session, and collaborative\\ndiscussions will be held.\\nWho can participate and how to register?\\nIf your organisation is at the forefront of these transformative technological advancements and you\\nwish to present your innovation, we invite you to register.\\nFollow this registration link to sign-up for the upcoming Industry Days. Please provide an overview\\nof the technology you wish to showcase. Registration will be open until 27 November.\\nAttendance is by invitation only; more information will be communicated separately to the selected\\napplicants. Technological solutions must respect the legal limitations resulting from the European\\nUnion data protection rules and human rights provisions.\\nHow will the submissions be evaluated?\\nAll submissions will be evaluated internally, ensuring alignment with the needs of the European\\nBorder and Coast Guard community while guaranteeing the fair and transparent treatment of all\\nparticipants. Every significant contribution will be displayed on our dedicated online platform.\\nError! No text of specified style in document. 2/02'"
      ]
     },
     "execution_count": 24,
     "metadata": {},
     "output_type": "execute_result"
    }
   ],
   "source": [
    "text"
   ]
  },
  {
   "cell_type": "code",
   "execution_count": 16,
   "metadata": {},
   "outputs": [
    {
     "data": {
      "text/plain": [
       "'frontex european border coast guard agency wwwfrontexeuropaeu pl europejski 6 00 844 warsaw poland tel 48 22 205 95 00 fax 48 22 205 95 01 frontex general industry days innovation border coast guard functions 2023 1116 join us 6 7 december contribute innovative solutions border coast guard functions frontexs next general industry days put innovation th e spotlight reflect core role technology european integrated border management frontex would like invite industry representatives demonstrate innovation could support border coast guard functions course two day pr ogramme 16 industry representatives present latest approaches technologies solutions whether already available market development benefit border management activities eus external borders within th e eu area respect eu regulations first day event broad scope dedicated innovative solutions support law enforcement activities regarding border management second day focus remote sensing tec hnologies electromagnetic signatures recognition state oftheart sensors surveillance purposes land based shipborne airborne mobile etc areas focus considered exhaustive technological solutions considered relevant border management practical information industry days industry days platform interact engage experts european border coast guard community goal create forum participants freely discuss proposed technological innovations error text specified style document 202 industry days held online format host engaging presentations dynamic discussions alongside interactive digital exhibition platform participating entity granted 40 minute slot time presentation qa session collabor ative discussions held participate register organisation forefront transformative technological advancements wish present innovation invite register follow registration link sign upcoming industry days please provide overview technology wish showcase registration open 27 november attendance invitation information communicated separately selected applicants technological solutions must respect legal limitations resulting european union data protection rules human rights provisions submissions evaluated submissions evaluated internally ensuring alignme nt needs european border coast guard community guaranteeing fair transparent treatment participants every significant contribution displayed dedicated online platform'"
      ]
     },
     "execution_count": 16,
     "metadata": {},
     "output_type": "execute_result"
    }
   ],
   "source": [
    "preprocess_text(text)"
   ]
  },
  {
   "cell_type": "code",
   "execution_count": null,
   "metadata": {},
   "outputs": [],
   "source": []
  }
 ],
 "metadata": {
  "kernelspec": {
   "display_name": "frontex_venv",
   "language": "python",
   "name": "python3"
  },
  "language_info": {
   "codemirror_mode": {
    "name": "ipython",
    "version": 3
   },
   "file_extension": ".py",
   "mimetype": "text/x-python",
   "name": "python",
   "nbconvert_exporter": "python",
   "pygments_lexer": "ipython3",
   "version": "3.11.5"
  }
 },
 "nbformat": 4,
 "nbformat_minor": 2
}

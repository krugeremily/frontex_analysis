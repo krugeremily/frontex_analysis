{
 "cells": [
  {
   "cell_type": "markdown",
   "metadata": {},
   "source": [
    "# Scraping Risk Analysis Reports from FRONTEX' website"
   ]
  },
  {
   "cell_type": "markdown",
   "metadata": {},
   "source": [
    "## Imports"
   ]
  },
  {
   "cell_type": "code",
   "execution_count": 1,
   "metadata": {},
   "outputs": [],
   "source": [
    "from selenium import webdriver\n",
    "from selenium.webdriver.chrome.service import Service as ChromeService\n",
    "from webdriver_manager.chrome import ChromeDriverManager\n",
    "from selenium.webdriver.common.by import By\n",
    "from selenium.webdriver.common.action_chains import ActionChains\n",
    "import time\n",
    "import clipboard"
   ]
  },
  {
   "cell_type": "code",
   "execution_count": 45,
   "metadata": {},
   "outputs": [],
   "source": [
    "from selenium.webdriver.support.ui import WebDriverWait\n",
    "from selenium.webdriver.support import expected_conditions as EC"
   ]
  },
  {
   "cell_type": "markdown",
   "metadata": {},
   "source": [
    "## Scraping"
   ]
  },
  {
   "cell_type": "code",
   "execution_count": 2,
   "metadata": {},
   "outputs": [],
   "source": [
    "#setting up driver\n",
    "driver=webdriver.Chrome(service=ChromeService(ChromeDriverManager().install()))\n",
    "# Create an instance of ActionChains\n",
    "action = ActionChains(driver)"
   ]
  },
  {
   "cell_type": "markdown",
   "metadata": {},
   "source": [
    "### Navigating Page"
   ]
  },
  {
   "cell_type": "code",
   "execution_count": 47,
   "metadata": {},
   "outputs": [],
   "source": [
    "#access frontex' public register of documents\n",
    "driver.get('https://prd.frontex.europa.eu')"
   ]
  },
  {
   "cell_type": "code",
   "execution_count": 48,
   "metadata": {},
   "outputs": [],
   "source": [
    "#open advanced seach options\n",
    "driver.find_element(By.CSS_SELECTOR, 'div.description.content').click()"
   ]
  },
  {
   "cell_type": "code",
   "execution_count": 49,
   "metadata": {},
   "outputs": [],
   "source": [
    "#select category = risk analysis reports & document language = english\n",
    "search_elements = driver.find_elements(By.CSS_SELECTOR, 'span.select2.select2-container.select2-container--default')\n",
    "#expand languages drop down and select 'EN'\n",
    "search_elements[0].click()\n",
    "driver.find_element(By.XPATH, '//label[text()=\"EN\"]').click()\n",
    "#expand document category drop down and select risk analysis reports\n",
    "search_elements[1].click()\n",
    "driver.find_element(By.XPATH, '//label[text()=\"Risk analysis\"]').click()\n",
    "#hit search\n",
    "driver.find_element(By.CSS_SELECTOR, 'i.icon-search').click()"
   ]
  },
  {
   "cell_type": "markdown",
   "metadata": {},
   "source": [
    "## Downloading documents"
   ]
  },
  {
   "cell_type": "code",
   "execution_count": null,
   "metadata": {},
   "outputs": [],
   "source": [
    "for box in driver.find_elements(By.CSS_SELECTOR, 'a.card-wrap.js-lightbox')"
   ]
  },
  {
   "cell_type": "code",
   "execution_count": 52,
   "metadata": {},
   "outputs": [],
   "source": [
    "#list to store webaddresse of failed downloads\n",
    "failed_downloads = []\n",
    "boxes = driver.find_elements(By.CSS_SELECTOR, 'a.card-wrap.js-lightbox')\n",
    "box = boxes[0]\n"
   ]
  },
  {
   "cell_type": "code",
   "execution_count": 24,
   "metadata": {},
   "outputs": [],
   "source": [
    "box = boxes[0]\n",
    "#select document\n",
    "box.click()\n",
    "try: #click download button\n",
    "    driver.find_element(By.CSS_SELECTOR, 'div.text-center.button').click()\n",
    "    time.sleep(5)\n",
    "except: #if download faild, wget webaddress of document\n",
    "    # Find the div element that contains buttons to view or go to document page\n",
    "    buttons_div = driver.find_element(By.CLASS_NAME, 'Buttons')\n",
    "    # Find the anchor tag within the div and extract link\n",
    "    anchor_tag = buttons_div.find_elements(By.TAG_NAME, 'a')[1]\n",
    "    href_value = anchor_tag.get_attribute('href')\n",
    "    #store link in list\n",
    "    failed_downloads.append(href_value)"
   ]
  }
 ],
 "metadata": {
  "kernelspec": {
   "display_name": "frontex_venv",
   "language": "python",
   "name": "python3"
  },
  "language_info": {
   "codemirror_mode": {
    "name": "ipython",
    "version": 3
   },
   "file_extension": ".py",
   "mimetype": "text/x-python",
   "name": "python",
   "nbconvert_exporter": "python",
   "pygments_lexer": "ipython3",
   "version": "3.11.5"
  }
 },
 "nbformat": 4,
 "nbformat_minor": 2
}

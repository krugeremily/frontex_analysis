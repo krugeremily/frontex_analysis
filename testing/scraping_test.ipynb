{
 "cells": [
  {
   "cell_type": "markdown",
   "metadata": {},
   "source": [
    "# Scraping Risk Analysis Reports from FRONTEX' website"
   ]
  },
  {
   "cell_type": "markdown",
   "metadata": {},
   "source": [
    "## Imports"
   ]
  },
  {
   "cell_type": "code",
   "execution_count": 27,
   "metadata": {},
   "outputs": [],
   "source": [
    "from selenium import webdriver\n",
    "from selenium.webdriver.chrome.service import Service as ChromeService\n",
    "from webdriver_manager.chrome import ChromeDriverManager\n",
    "from selenium.webdriver.common.by import By\n",
    "from selenium.webdriver.common.action_chains import ActionChains\n",
    "from selenium.webdriver.chrome.options import Options\n",
    "from selenium.webdriver.support.ui import WebDriverWait\n",
    "from selenium.webdriver.support import expected_conditions as EC\n",
    "from selenium.common.exceptions import NoSuchElementException\n",
    "import time\n",
    "import clipboard"
   ]
  },
  {
   "cell_type": "markdown",
   "metadata": {},
   "source": [
    "## Scraping"
   ]
  },
  {
   "cell_type": "code",
   "execution_count": 19,
   "metadata": {},
   "outputs": [],
   "source": [
    "#specify folder where downloads should be stored\n",
    "prefs = {\n",
    "    'download.default_directory': '/Users/emilykruger/Documents/GitHub/frontex_analysis/data/risk analysis reports',\n",
    "    'download.directory_upgrade': True,\n",
    "    'download.prompt_for_download': False,\n",
    "}\n",
    "#set driver options\n",
    "chrome_options = Options()\n",
    "chrome_options.add_experimental_option(\"prefs\", prefs)\n",
    "#setting up driver\n",
    "driver=webdriver.Chrome(service=ChromeService(ChromeDriverManager().install()), options=chrome_options)\n",
    "# Create an instance of ActionChains\n",
    "action = ActionChains(driver)"
   ]
  },
  {
   "cell_type": "markdown",
   "metadata": {},
   "source": [
    "### Navigating Page"
   ]
  },
  {
   "cell_type": "code",
   "execution_count": 28,
   "metadata": {},
   "outputs": [],
   "source": [
    "#access frontex' public register of documents\n",
    "driver.get('https://prd.frontex.europa.eu')\n",
    "#open advanced seach options\n",
    "driver.find_element(By.CSS_SELECTOR, 'div.description.content').click()\n",
    "#select category = risk analysis reports & document language = english\n",
    "search_elements = driver.find_elements(By.CSS_SELECTOR, 'span.select2.select2-container.select2-container--default')\n",
    "#expand languages drop down and select 'EN'\n",
    "search_elements[0].click()\n",
    "driver.find_element(By.XPATH, '//label[text()=\"EN\"]').click()\n",
    "#expand document category drop down and select risk analysis reports\n",
    "search_elements[1].click()\n",
    "driver.find_element(By.XPATH, '//label[text()=\"Risk analysis\"]').click()\n",
    "#hit search\n",
    "driver.find_element(By.CSS_SELECTOR, 'i.icon-search').click()"
   ]
  },
  {
   "cell_type": "markdown",
   "metadata": {},
   "source": [
    "## Downloading documents"
   ]
  },
  {
   "cell_type": "code",
   "execution_count": 21,
   "metadata": {},
   "outputs": [],
   "source": [
    "failed_downloads = []\n",
    "#define function that downloads all files\n",
    "def get_files():\n",
    "    boxes = driver.find_elements(By.CSS_SELECTOR, 'a.card-wrap.js-lightbox')\n",
    "    for box in boxes:\n",
    "        #open overlay box and switch navigation to it\n",
    "        box.click()\n",
    "        iframe = WebDriverWait(driver, 10).until(\n",
    "                EC.frame_to_be_available_and_switch_to_it((By.XPATH,'//*[@id=\"lightbox\"]/div/iframe'))\n",
    "            )\n",
    "        #wait three seconds to make sure that download button is ready to be interacted with\n",
    "        time.sleep(2.5)\n",
    "        try: #try downloading file\n",
    "            driver.find_element(By.CSS_SELECTOR, 'i.icon-download').click()\n",
    "            print('Download successful')\n",
    "            time.sleep(2)\n",
    "        except: #if download fails, store link to web address of doc to list\n",
    "            driver.find_element(By.CSS_SELECTOR, 'a.copy-button.button').click()\n",
    "            copied_link = clipboard.paste()\n",
    "            failed_downloads.append(copied_link)\n",
    "        #close overlay box\n",
    "        driver.switch_to.default_content()\n",
    "        driver.find_element(By.CSS_SELECTOR, 'i.close.close-lightbox.icon-close').click()"
   ]
  },
  {
   "cell_type": "code",
   "execution_count": 29,
   "metadata": {},
   "outputs": [
    {
     "name": "stdout",
     "output_type": "stream",
     "text": [
      "Download successful\n",
      "Download successful\n",
      "Page done.\n",
      "Download successful\n",
      "Download successful\n",
      "Page done.\n",
      "Download successful\n",
      "Download successful\n",
      "Page done.\n"
     ]
    }
   ],
   "source": [
    "#download all files form all pages\n",
    "while True:\n",
    "    get_files()\n",
    "    #check for next-page button\n",
    "    print('Page done.')\n",
    "    try: #try to click next-page button and give page time to load\n",
    "        driver.find_element(By.CSS_SELECTOR, 'i.icon-arrow-right').click()   \n",
    "        time.sleep(3)\n",
    "    except NoSuchElementException:\n",
    "        break"
   ]
  },
  {
   "cell_type": "code",
   "execution_count": null,
   "metadata": {},
   "outputs": [],
   "source": [
    "driver.close()"
   ]
  }
 ],
 "metadata": {
  "kernelspec": {
   "display_name": "frontex_venv",
   "language": "python",
   "name": "python3"
  },
  "language_info": {
   "codemirror_mode": {
    "name": "ipython",
    "version": 3
   },
   "file_extension": ".py",
   "mimetype": "text/x-python",
   "name": "python",
   "nbconvert_exporter": "python",
   "pygments_lexer": "ipython3",
   "version": "3.11.5"
  }
 },
 "nbformat": 4,
 "nbformat_minor": 2
}

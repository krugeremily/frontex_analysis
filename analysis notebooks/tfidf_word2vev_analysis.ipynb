{
 "cells": [
  {
   "cell_type": "markdown",
   "metadata": {},
   "source": [
    "# TF-IDF & Word2Vec Analysis"
   ]
  },
  {
   "cell_type": "code",
   "execution_count": null,
   "metadata": {},
   "outputs": [],
   "source": [
    "#imports\n",
    "import pandas as pd\n",
    "import seaborn as sns\n",
    "import matplotlib.pyplot as plt\n",
    "#import word2vec\n",
    "from gensim.models import Word2Vec"
   ]
  },
  {
   "cell_type": "markdown",
   "metadata": {},
   "source": [
    "## TF-IDF Analysis"
   ]
  },
  {
   "cell_type": "code",
   "execution_count": null,
   "metadata": {},
   "outputs": [],
   "source": [
    "#load data set\n",
    "df = pd.read_csv('../results/tfidf_enriched.csv')"
   ]
  },
  {
   "cell_type": "code",
   "execution_count": null,
   "metadata": {},
   "outputs": [],
   "source": [
    "# Extract words and scores into separate lists\n",
    "words_lists = df['Top 10 TF-IDF Words'].apply(lambda x: [word for word, score in x])\n",
    "scores_lists = df['Top 10 TF-IDF Words'].apply(lambda x: [score for word, score in x])\n",
    "\n",
    "# Creating a violin plot of TF-IDF scores\n",
    "plt.figure(figsize=(10, 6))\n",
    "sns.violinplot(data=scores_lists, orient='h', inner='quartile', palette='viridis')\n",
    "plt.yticks(ticks=range(len(df)), labels=df['Filename'])\n",
    "plt.xlabel('TF-IDF Score')\n",
    "plt.title('Distribution of TF-IDF Scores for Each Filename')\n",
    "\n",
    "# Annotate violin plot with top TF-IDF words\n",
    "for i, (words, scores) in enumerate(zip(words_lists, scores_lists)):\n",
    "    for word, score in zip(words, scores):\n",
    "        plt.text(score + 0.01, i, word, va='center')  # Adjust text position for better visibility\n",
    "\n",
    "plt.show()"
   ]
  },
  {
   "cell_type": "code",
   "execution_count": null,
   "metadata": {},
   "outputs": [],
   "source": [
    "# Create TF-IDF matrix\n",
    "word_to_index = {}\n",
    "tfidf_matrix = []\n",
    "\n",
    "for word_score_list in df['Top 10 TF-IDF Words']:\n",
    "    row = []\n",
    "    for item in word_score_list:\n",
    "        if len(item) == 2:\n",
    "            word, score = item\n",
    "            if word not in word_to_index:\n",
    "                word_to_index[word] = len(word_to_index)\n",
    "            row.append(score)\n",
    "    tfidf_matrix.append(row)\n",
    "\n",
    "# Convert tfidf_matrix to numpy array\n",
    "tfidf_matrix = np.array(tfidf_matrix)\n",
    "\n",
    "# Create a heatmap of TF-IDF scores\n",
    "plt.figure(figsize=(10, 8))\n",
    "sns.heatmap(tfidf_matrix, cmap='viridis', annot=True, fmt='.2f',\n",
    "            xticklabels=list(word_to_index.keys()), yticklabels=df['Filename'])\n",
    "plt.xlabel('Word')\n",
    "plt.ylabel('Filename')\n",
    "plt.title('TF-IDF Scores for Each Filename and Word')\n",
    "plt.show()"
   ]
  },
  {
   "cell_type": "markdown",
   "metadata": {},
   "source": [
    "## Word2Vec Analysis"
   ]
  },
  {
   "cell_type": "code",
   "execution_count": null,
   "metadata": {},
   "outputs": [],
   "source": [
    "#load word2vec model from models folder\n",
    "model = Word2Vec.load('../models/word2vec_model.model')"
   ]
  }
 ],
 "metadata": {
  "kernelspec": {
   "display_name": "frontex_venv",
   "language": "python",
   "name": "python3"
  },
  "language_info": {
   "name": "python",
   "version": "3.11.5"
  }
 },
 "nbformat": 4,
 "nbformat_minor": 2
}
